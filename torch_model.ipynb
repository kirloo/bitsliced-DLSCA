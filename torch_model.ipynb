{
 "cells": [
  {
   "cell_type": "code",
   "execution_count": 1,
   "metadata": {},
   "outputs": [],
   "source": [
    "import numpy as np\n",
    "import pandas as pd\n",
    "import matplotlib.pyplot as plt\n",
    "\n",
    "import torch\n",
    "import torch.nn as nn\n",
    "import torch.optim as optim\n",
    "from torch.utils.data import DataLoader, Dataset, random_split\n",
    "import torch.nn.functional as F\n",
    "from torchvision import transforms\n",
    "\n",
    "import h5py\n",
    "\n",
    "from tqdm import tqdm"
   ]
  },
  {
   "cell_type": "code",
   "execution_count": 2,
   "metadata": {},
   "outputs": [],
   "source": [
    "device = torch.device('cuda')"
   ]
  },
  {
   "cell_type": "markdown",
   "metadata": {},
   "source": [
    "## Data"
   ]
  },
  {
   "cell_type": "code",
   "execution_count": 3,
   "metadata": {},
   "outputs": [],
   "source": [
    "torch.use_deterministic_algorithms(True)\n",
    "\n",
    "import os\n",
    "\n",
    "# Variable must be set to allow deterministic\n",
    "os.environ[\"CUBLAS_WORKSPACE_CONFIG\"] = \":4096:8\"\n",
    "\n",
    "torch_rng = torch.manual_seed(777)\n",
    "np_rng = np.random.default_rng(777)\n",
    "\n",
    "np.random.seed(777)"
   ]
  },
  {
   "cell_type": "code",
   "execution_count": 4,
   "metadata": {},
   "outputs": [],
   "source": [
    "# Non bitsliced\n",
    "#train_hdf = h5py.File(\"C:/Data/simpleserial-aes-500000-diff-profile.hdf5\")\n",
    "#val_test_hdf = h5py.File(\"C:/Data/simpleserial-aes-500-diff.hdf5\")"
   ]
  },
  {
   "cell_type": "code",
   "execution_count": 5,
   "metadata": {},
   "outputs": [],
   "source": [
    "train_hdf = h5py.File(\"C:/Data/simpleserial-aes-fix-500000-diff-profile.hdf5\")"
   ]
  },
  {
   "cell_type": "code",
   "execution_count": 6,
   "metadata": {},
   "outputs": [],
   "source": [
    "val_test_hdf = h5py.File(\"C:/Data/simpleserial-aes-fix-500-diff.hdf5\")"
   ]
  },
  {
   "cell_type": "code",
   "execution_count": 7,
   "metadata": {},
   "outputs": [],
   "source": [
    "train_traces = torch.Tensor(np.array(train_hdf['trace']))\n",
    "train_plaintexts = torch.Tensor(np.array(train_hdf['data']))\n",
    "train_keys = torch.Tensor(np.array(train_hdf['key']))"
   ]
  },
  {
   "cell_type": "code",
   "execution_count": 8,
   "metadata": {},
   "outputs": [],
   "source": [
    "val_test_traces = torch.Tensor(np.array(val_test_hdf['trace']))\n",
    "val_test_plaintexts = torch.Tensor(np.array(val_test_hdf['data']))\n",
    "val_test_keys = torch.Tensor(np.array(val_test_hdf['key']))"
   ]
  },
  {
   "cell_type": "code",
   "execution_count": 9,
   "metadata": {},
   "outputs": [
    {
     "name": "stdout",
     "output_type": "stream",
     "text": [
      "Train traces shape: torch.Size([500000, 5000])\n",
      "Train keys shape: torch.Size([500000, 16])\n",
      "Train plaintexts shape: torch.Size([500000, 32])\n",
      "Test traces shape: torch.Size([1000, 500, 5000])\n",
      "Test keys shape: torch.Size([1000, 16])\n",
      "Test plaintexts shape: torch.Size([1000, 500, 32])\n"
     ]
    }
   ],
   "source": [
    "print(f\"Train traces shape: {train_traces.shape}\")\n",
    "print(f\"Train keys shape: {train_keys.shape}\")\n",
    "print(f\"Train plaintexts shape: {train_plaintexts.shape}\")\n",
    "\n",
    "print(f\"Test traces shape: {val_test_traces.shape}\")\n",
    "print(f\"Test keys shape: {val_test_keys.shape}\")\n",
    "print(f\"Test plaintexts shape: {val_test_plaintexts.shape}\")"
   ]
  },
  {
   "cell_type": "markdown",
   "metadata": {},
   "source": [
    "### Computing S-box output"
   ]
  },
  {
   "cell_type": "code",
   "execution_count": 10,
   "metadata": {},
   "outputs": [],
   "source": [
    "s_box = [\n",
    "    0x63, 0x7C, 0x77, 0x7B, 0xF2, 0x6B, 0x6F, 0xC5, 0x30, 0x01, 0x67, 0x2B, 0xFE, 0xD7, 0xAB, 0x76,\n",
    "    0xCA, 0x82, 0xC9, 0x7D, 0xFA, 0x59, 0x47, 0xF0, 0xAD, 0xD4, 0xA2, 0xAF, 0x9C, 0xA4, 0x72, 0xC0,\n",
    "    0xB7, 0xFD, 0x93, 0x26, 0x36, 0x3F, 0xF7, 0xCC, 0x34, 0xA5, 0xE5, 0xF1, 0x71, 0xD8, 0x31, 0x15,\n",
    "    0x04, 0xC7, 0x23, 0xC3, 0x18, 0x96, 0x05, 0x9A, 0x07, 0x12, 0x80, 0xE2, 0xEB, 0x27, 0xB2, 0x75,\n",
    "    0x09, 0x83, 0x2C, 0x1A, 0x1B, 0x6E, 0x5A, 0xA0, 0x52, 0x3B, 0xD6, 0xB3, 0x29, 0xE3, 0x2F, 0x84,\n",
    "    0x53, 0xD1, 0x00, 0xED, 0x20, 0xFC, 0xB1, 0x5B, 0x6A, 0xCB, 0xBE, 0x39, 0x4A, 0x4C, 0x58, 0xCF,\n",
    "    0xD0, 0xEF, 0xAA, 0xFB, 0x43, 0x4D, 0x33, 0x85, 0x45, 0xF9, 0x02, 0x7F, 0x50, 0x3C, 0x9F, 0xA8,\n",
    "    0x51, 0xA3, 0x40, 0x8F, 0x92, 0x9D, 0x38, 0xF5, 0xBC, 0xB6, 0xDA, 0x21, 0x10, 0xFF, 0xF3, 0xD2,\n",
    "    0xCD, 0x0C, 0x13, 0xEC, 0x5F, 0x97, 0x44, 0x17, 0xC4, 0xA7, 0x7E, 0x3D, 0x64, 0x5D, 0x19, 0x73,\n",
    "    0x60, 0x81, 0x4F, 0xDC, 0x22, 0x2A, 0x90, 0x88, 0x46, 0xEE, 0xB8, 0x14, 0xDE, 0x5E, 0x0B, 0xDB,\n",
    "    0xE0, 0x32, 0x3A, 0x0A, 0x49, 0x06, 0x24, 0x5C, 0xC2, 0xD3, 0xAC, 0x62, 0x91, 0x95, 0xE4, 0x79,\n",
    "    0xE7, 0xC8, 0x37, 0x6D, 0x8D, 0xD5, 0x4E, 0xA9, 0x6C, 0x56, 0xF4, 0xEA, 0x65, 0x7A, 0xAE, 0x08,\n",
    "    0xBA, 0x78, 0x25, 0x2E, 0x1C, 0xA6, 0xB4, 0xC6, 0xE8, 0xDD, 0x74, 0x1F, 0x4B, 0xBD, 0x8B, 0x8A,\n",
    "    0x70, 0x3E, 0xB5, 0x66, 0x48, 0x03, 0xF6, 0x0E, 0x61, 0x35, 0x57, 0xB9, 0x86, 0xC1, 0x1D, 0x9E,\n",
    "    0xE1, 0xF8, 0x98, 0x11, 0x69, 0xD9, 0x8E, 0x94, 0x9B, 0x1E, 0x87, 0xE9, 0xCE, 0x55, 0x28, 0xDF,\n",
    "    0x8C, 0xA1, 0x89, 0x0D, 0xBF, 0xE6, 0x42, 0x68, 0x41, 0x99, 0x2D, 0x0F, 0xB0, 0x54, 0xBB, 0x16,\n",
    "]\n",
    "\n",
    "inverted_s_box = [0] * 256\n",
    "\n",
    "for idx, bytevalue in enumerate(s_box):\n",
    "    inverted_s_box[bytevalue] = idx"
   ]
  },
  {
   "cell_type": "code",
   "execution_count": null,
   "metadata": {},
   "outputs": [],
   "source": [
    "# Only do first block, what mode are we encrypting with?\n",
    "train_sbox_output = torch.empty((500000,16))\n",
    "val_test_sbox_output = torch.empty((1000,500,16))\n",
    "\n",
    "for idx, (key, plaintext) in enumerate(zip(train_keys, train_plaintexts)):\n",
    "\n",
    "    block = plaintext.clone()[:16]\n",
    "\n",
    "    block.map_(key, lambda x,y: s_box[int(x) ^ int(y)])\n",
    "\n",
    "    block = block.long()\n",
    "\n",
    "    train_sbox_output[idx] = block\n",
    "\n",
    "for key_idx in range(val_test_traces.shape[0]):\n",
    "    for idx, (key, plaintext) in enumerate(zip(val_test_keys[key_idx], val_test_plaintexts[key_idx])):\n",
    "\n",
    "        block = plaintext.clone()[:16]\n",
    "\n",
    "        block.map_(key, lambda x,y: s_box[int(x) ^ int(y)])\n",
    "\n",
    "        block = block.long()\n",
    "\n",
    "        val_test_sbox_output[key_idx, idx] = block"
   ]
  },
  {
   "cell_type": "code",
   "execution_count": 12,
   "metadata": {},
   "outputs": [
    {
     "name": "stdout",
     "output_type": "stream",
     "text": [
      "torch.Size([500000, 16])\n",
      "torch.Size([1000, 500, 16])\n"
     ]
    }
   ],
   "source": [
    "print(train_sbox_output.shape)\n",
    "print(val_test_sbox_output.shape)"
   ]
  },
  {
   "cell_type": "markdown",
   "metadata": {},
   "source": [
    "### Sample"
   ]
  },
  {
   "cell_type": "code",
   "execution_count": 13,
   "metadata": {},
   "outputs": [
    {
     "data": {
      "text/plain": [
       "[<matplotlib.lines.Line2D at 0x25faa8bd0d0>]"
      ]
     },
     "execution_count": 13,
     "metadata": {},
     "output_type": "execute_result"
    },
    {
     "data": {
      "image/png": "[encoded data removed]",
      "text/plain": [
       "<Figure size 800x500 with 1 Axes>"
      ]
     },
     "metadata": {},
     "output_type": "display_data"
    }
   ],
   "source": [
    "fig = plt.figure(1,(8.0, 5.0))\n",
    "\n",
    "ax = fig.add_axes((1.0, 1.0, 1.0, 1.0))\n",
    "ax.set_ylim(200.0, 700.0)\n",
    "\n",
    "ax.plot(np.arange(5000), train_traces[99000])"
   ]
  },
  {
   "cell_type": "code",
   "execution_count": 14,
   "metadata": {},
   "outputs": [
    {
     "data": {
      "text/plain": [
       "[<matplotlib.lines.Line2D at 0x25faa8ef740>]"
      ]
     },
     "execution_count": 14,
     "metadata": {},
     "output_type": "execute_result"
    },
    {
     "data": {
      "image/png": "[encoded data removed]",
      "text/plain": [
       "<Figure size 800x500 with 1 Axes>"
      ]
     },
     "metadata": {},
     "output_type": "display_data"
    }
   ],
   "source": [
    "fig = plt.figure(1,(8.0, 5.0))\n",
    "ax = fig.add_axes((1.0, 1.0, 1.0, 1.0))\n",
    "ax.set_ylim(200.0, 700.0)\n",
    "\n",
    "ax.plot(np.arange(5000), val_test_traces[450,4], color='green')"
   ]
  },
  {
   "cell_type": "code",
   "execution_count": 15,
   "metadata": {},
   "outputs": [
    {
     "name": "stdout",
     "output_type": "stream",
     "text": [
      "torch.Size([500000, 1000])\n",
      "torch.Size([1000, 500, 1000])\n"
     ]
    }
   ],
   "source": [
    "train_traces_trunc = train_traces[..., :1000]\n",
    "val_test_traces_trunc = val_test_traces[..., :1000]\n",
    "\n",
    "print(train_traces_trunc.shape)\n",
    "print(val_test_traces_trunc.shape)"
   ]
  },
  {
   "cell_type": "code",
   "execution_count": 16,
   "metadata": {},
   "outputs": [],
   "source": [
    "train_traces_mean = train_traces_trunc.mean()\n",
    "train_traces_std = train_traces_trunc.std()"
   ]
  },
  {
   "cell_type": "code",
   "execution_count": 17,
   "metadata": {},
   "outputs": [],
   "source": [
    "train_traces_norm = (train_traces_trunc - train_traces_mean) / train_traces_std\n",
    "val_test_traces_norm = (val_test_traces_trunc - train_traces_mean) / train_traces_std"
   ]
  },
  {
   "cell_type": "markdown",
   "metadata": {},
   "source": [
    "## Dataset"
   ]
  },
  {
   "cell_type": "code",
   "execution_count": 18,
   "metadata": {},
   "outputs": [],
   "source": [
    "class TrainingTraceSet(Dataset):\n",
    "    def __init__(self, traces : torch.Tensor, keys, subkey_idx):\n",
    "\n",
    "        self.traces = traces\n",
    "        self.keys = keys[..., subkey_idx]\n",
    "\n",
    "    def __len__(self):\n",
    "        return self.traces.shape[0]\n",
    "    \n",
    "    def __getitem__(self, idx) -> tuple[torch.Tensor, torch.Tensor]:\n",
    "        sample = self.traces[idx]\n",
    "        target = self.keys[idx]\n",
    "        return (sample, target)"
   ]
  },
  {
   "cell_type": "code",
   "execution_count": 19,
   "metadata": {},
   "outputs": [],
   "source": [
    "class TestingTraceSet(Dataset):\n",
    "    def __init__(self, traces, keys, subkey_idx):\n",
    "\n",
    "        self.traces = traces\n",
    "        self.keys = keys[..., subkey_idx]\n",
    "\n",
    "    def __len__(self):\n",
    "        return self.traces.shape[0]\n",
    "    \n",
    "    def __getitem__(self, idx):\n",
    "        # One sample, N traces\n",
    "        traces = self.traces[idx]\n",
    "        key = self.keys[..., idx]\n",
    "\n",
    "        return (traces, key)"
   ]
  },
  {
   "cell_type": "code",
   "execution_count": 20,
   "metadata": {},
   "outputs": [],
   "source": [
    "class SboxTestingTraceSet(Dataset):\n",
    "    def __init__(self, traces, plaintexts, keys, subbyte_idx):\n",
    "\n",
    "        self.traces = traces\n",
    "\n",
    "        # Plaintext must be included to map possible sbox outpouts back to keys\n",
    "        self.plaintexts = plaintexts[..., subbyte_idx]\n",
    "        self.keys = keys[..., subbyte_idx].squeeze()\n",
    "\n",
    "    def __len__(self):\n",
    "        return self.traces.shape[0]\n",
    "    \n",
    "    def __getitem__(self, idx):\n",
    "        # One sample, N traces, N plaintexts, single key\n",
    "        traces = self.traces[idx]\n",
    "        plaintexts = self.plaintexts[idx].squeeze()\n",
    "        key = self.keys[idx]\n",
    "\n",
    "        return (traces, plaintexts, key)"
   ]
  },
  {
   "cell_type": "markdown",
   "metadata": {},
   "source": [
    "## Model"
   ]
  },
  {
   "cell_type": "code",
   "execution_count": 21,
   "metadata": {},
   "outputs": [],
   "source": [
    "# Zhang2019\n",
    "class CNN_ZHANG(nn.Module):\n",
    "    def __init__(self, *args, **kwargs):\n",
    "        super().__init__(*args, **kwargs)\n",
    "        self.network : nn.Sequential = nn.Sequential(\n",
    "            \n",
    "            nn.Conv1d(1, 64, 11),\n",
    "            nn.ReLU(),\n",
    "            nn.AvgPool1d(2, 2),\n",
    "\n",
    "            nn.Conv1d(64, 128, 11),\n",
    "            nn.ReLU(),\n",
    "            nn.AvgPool1d(2, 2),\n",
    "\n",
    "            nn.Conv1d(128, 256, 11),\n",
    "            nn.ReLU(),\n",
    "            nn.AvgPool1d(2, 2),\n",
    "\n",
    "            nn.Conv1d(256, 512, 11),\n",
    "            nn.ReLU(),\n",
    "            nn.AvgPool1d(2, 2),\n",
    "\n",
    "            nn.Conv1d(512, 512, 11),\n",
    "            nn.ReLU(),\n",
    "            nn.AvgPool1d(2, 2),\n",
    "\n",
    "            nn.Flatten(),\n",
    "\n",
    "            nn.Linear(10752, 4096),\n",
    "            nn.ReLU(),\n",
    "            nn.Linear(4096, 4096),\n",
    "            nn.ReLU(),\n",
    "            nn.Linear(4096, 256),\n",
    "            # Cross entropy expects raw logits\n",
    "            # https://docs.pytorch.org/docs/stable/generated/torch.nn.CrossEntropyLoss.html\n",
    "        )\n",
    "\n",
    "    def forward(self, x):\n",
    "\n",
    "        # Add channel dimension for conv\n",
    "        x = x.unsqueeze(1)\n",
    "\n",
    "        output = self.network(x)\n",
    "\n",
    "        return output\n"
   ]
  },
  {
   "cell_type": "code",
   "execution_count": 49,
   "metadata": {},
   "outputs": [],
   "source": [
    "# different name matching older .pt files\n",
    "class SCACNN(nn.Module):\n",
    "    def __init__(self, *args, **kwargs):\n",
    "        super().__init__(*args, **kwargs)\n",
    "        self.network : nn.Sequential = nn.Sequential(\n",
    "            \n",
    "            nn.Conv1d(1, 64, 11),\n",
    "            nn.ReLU(),\n",
    "            nn.AvgPool1d(2, 2),\n",
    "\n",
    "            nn.Conv1d(64, 128, 11),\n",
    "            nn.ReLU(),\n",
    "            nn.AvgPool1d(2, 2),\n",
    "\n",
    "            nn.Conv1d(128, 256, 11),\n",
    "            nn.ReLU(),\n",
    "            nn.AvgPool1d(2, 2),\n",
    "\n",
    "            nn.Conv1d(256, 512, 11),\n",
    "            nn.ReLU(),\n",
    "            nn.AvgPool1d(2, 2),\n",
    "\n",
    "            nn.Conv1d(512, 512, 11),\n",
    "            nn.ReLU(),\n",
    "            nn.AvgPool1d(2, 2),\n",
    "\n",
    "            nn.Flatten(),\n",
    "\n",
    "            nn.Linear(10752, 4096),\n",
    "            nn.ReLU(),\n",
    "            nn.Linear(4096, 4096),\n",
    "            nn.ReLU(),\n",
    "            nn.Linear(4096, 256),\n",
    "            # Cross entropy expects raw logits\n",
    "            # https://docs.pytorch.org/docs/stable/generated/torch.nn.CrossEntropyLoss.html\n",
    "        )\n",
    "\n",
    "    def forward(self, x):\n",
    "\n",
    "        # Add channel dimension for conv\n",
    "        x = x.unsqueeze(1)\n",
    "\n",
    "        output = self.network(x)\n",
    "\n",
    "        return output\n"
   ]
  },
  {
   "cell_type": "code",
   "execution_count": 22,
   "metadata": {},
   "outputs": [],
   "source": [
    "# Zhang2019\n",
    "class CNN_Hettwer(nn.Module):\n",
    "    def __init__(self, *args, **kwargs):\n",
    "        super().__init__(*args, **kwargs)\n",
    "        self.network : nn.Sequential = nn.Sequential(\n",
    "            \n",
    "            nn.Conv1d(1, 8, 8),\n",
    "            nn.ReLU(),\n",
    "            nn.MaxPool1d(2, 2),\n",
    "            nn.Dropout(0.3),\n",
    "\n",
    "            nn.Conv1d(8, 16, 8),\n",
    "            nn.BatchNorm1d(16),\n",
    "            nn.ReLU(),\n",
    "            nn.MaxPool1d(2, 2),\n",
    "            nn.Dropout(0.3),\n",
    "\n",
    "            nn.Conv1d(16, 32, 8),\n",
    "            nn.BatchNorm1d(32),\n",
    "            nn.ReLU(),\n",
    "            nn.MaxPool1d(2, 2),\n",
    "            nn.Dropout(0.3),\n",
    "\n",
    "            nn.Conv1d(32, 64, 8),\n",
    "            nn.BatchNorm1d(64),\n",
    "            nn.ReLU(),\n",
    "            nn.MaxPool1d(2, 2),\n",
    "            nn.Dropout(0.3),\n",
    "\n",
    "            nn.Flatten(),\n",
    "\n",
    "            nn.Linear(3520, 20),\n",
    "            nn.ReLU(),\n",
    "            nn.Linear(20, 256),\n",
    "            # Cross entropy expects raw logits\n",
    "            # https://docs.pytorch.org/docs/stable/generated/torch.nn.CrossEntropyLoss.html\n",
    "        )\n",
    "\n",
    "    def forward(self, x):\n",
    "\n",
    "        # Add channel dimension for conv\n",
    "        x = x.unsqueeze(1)\n",
    "\n",
    "        output = self.network(x)\n",
    "\n",
    "        return output"
   ]
  },
  {
   "cell_type": "markdown",
   "metadata": {},
   "source": [
    "## Computing keyrank"
   ]
  },
  {
   "cell_type": "code",
   "execution_count": 23,
   "metadata": {},
   "outputs": [],
   "source": [
    "from importlib import reload\n",
    "import keyrank_rs\n",
    "\n",
    "# Changes to external module don't come into effect before reloading or restarting kernel\n",
    "keyrank_rs = reload(keyrank_rs)"
   ]
  },
  {
   "cell_type": "code",
   "execution_count": 24,
   "metadata": {},
   "outputs": [],
   "source": [
    "def mean_keyrank2(model : nn.Module, test_loader : DataLoader):\n",
    "    total_rank = 0\n",
    "    \n",
    "    for traces, key in tqdm(test_loader, 'computing keyrank'):\n",
    "\n",
    "        traces = traces.to(device)\n",
    "        key = key.to(device)\n",
    "\n",
    "        output = model(traces.squeeze())\n",
    "\n",
    "        _, rankings = torch.unique(-output, sorted=True, return_inverse=True, dim=-1)\n",
    "\n",
    "        rankings = rankings.type(torch.float64)\n",
    "\n",
    "        current_rank = (rankings * F.one_hot(key.long(), 256)).sum()\n",
    "\n",
    "        # Multiply with one hot tensor to retain only rank of target class\n",
    "        total_rank += current_rank\n",
    "\n",
    "\n",
    "    mean_rank = total_rank / len(test_loader)\n",
    "\n",
    "    return mean_rank\n"
   ]
  },
  {
   "cell_type": "code",
   "execution_count": 25,
   "metadata": {},
   "outputs": [],
   "source": [
    "def mean_keyrank(model : nn.Module, test_loader : DataLoader):\n",
    "    total_rank = 0\n",
    "\n",
    "    for traces, key in tqdm(test_loader, 'computing keyrank', leave=False):\n",
    "\n",
    "        traces = traces.to(device)\n",
    "        key = key.to(device)\n",
    "\n",
    "        output : torch.Tensor = model(traces.squeeze())\n",
    "\n",
    "        ranks = output.argsort(dim=-1, descending=True).argsort(dim=-1)\n",
    "\n",
    "        total_rank += ranks[..., int(key)].mean(dtype=float)\n",
    "\n",
    "    mean_rank = total_rank / len(test_loader)\n",
    "\n",
    "    return mean_rank"
   ]
  },
  {
   "cell_type": "code",
   "execution_count": 26,
   "metadata": {},
   "outputs": [],
   "source": [
    "\n",
    "\n",
    "\n",
    "def mean_sbox_rank(model : nn.Module, sbox_test_loader : DataLoader):\n",
    "    \n",
    "    total_rank = 0\n",
    "\n",
    "    for traces, plaintexts, true_key in tqdm(sbox_test_loader, 'computing keyrank', leave=False):\n",
    "\n",
    "        traces : torch.Tensor = traces.to(device)\n",
    "        plaintexts : torch.Tensor = plaintexts.squeeze().to(device)\n",
    "\n",
    "\n",
    "        sbox_scores : torch.Tensor = model(traces.squeeze())\n",
    "\n",
    "        keyscores = torch.empty(sbox_scores.shape)\n",
    "\n",
    "        for idx, (sbox_score, plaintext) in enumerate(zip(sbox_scores, plaintexts)):\n",
    "\n",
    "            plaintext_int = plaintext.long().item()\n",
    "            numpy_scores = sbox_score.detach().cpu().numpy()\n",
    "            \n",
    "            numpy_keyscores : np.array =  keyrank_rs.sbox_scores_to_key_scores(plaintext_int, numpy_scores)\n",
    "\n",
    "            keyscores[idx] = torch.Tensor(numpy_keyscores).to(device)\n",
    "\n",
    "\n",
    "\n",
    "        ranks = keyscores.argsort(dim=-1, descending=True).argsort(dim=-1)\n",
    "\n",
    "\n",
    "        total_rank += ranks[..., int(true_key)].mean(dtype=float)\n",
    "\n",
    "    mean_rank = total_rank / len(sbox_test_loader)\n",
    "\n",
    "    return mean_rank\n"
   ]
  },
  {
   "cell_type": "markdown",
   "metadata": {},
   "source": [
    "## Training"
   ]
  },
  {
   "cell_type": "code",
   "execution_count": 27,
   "metadata": {},
   "outputs": [],
   "source": [
    "import os\n",
    "\n",
    "def train_model(\n",
    "        model : nn.Module,\n",
    "        optimizer : optim.Optimizer,\n",
    "        loss_fn,\n",
    "        train_loader : DataLoader,\n",
    "        val_loader : DataLoader,\n",
    "        folder,\n",
    "        scores = ([],[]),\n",
    "        n_epochs = 10,\n",
    "        prediction_target = \"key\"\n",
    "    ):\n",
    "\n",
    "    os.makedirs(f\"models/{folder}\", exist_ok=True)\n",
    "\n",
    "    train_losses = scores[0]\n",
    "    val_ranks = scores[1]\n",
    "\n",
    "    for epoch in range(n_epochs):\n",
    "\n",
    "        model.train()\n",
    "\n",
    "        train_loss = 0\n",
    "\n",
    "        for input, target in tqdm(train_loader, 'training model', unit='batch', leave=False):\n",
    "\n",
    "            target = target.type(torch.LongTensor)\n",
    "\n",
    "            #target_onehot = F.one_hot(target, 256).to(device)\n",
    "\n",
    "\n",
    "\n",
    "            # Move batch to GPU\n",
    "            input = input.to(device)\n",
    "            target = target.to(device)\n",
    "\n",
    "            optimizer.zero_grad()\n",
    "\n",
    "            outputs = model(input)\n",
    "\n",
    "            loss = loss_fn(outputs, target)\n",
    "\n",
    "            loss.backward()\n",
    "\n",
    "            optimizer.step()\n",
    "\n",
    "            train_loss+=loss.item()\n",
    "\n",
    "\n",
    "\n",
    "        train_loss /= len(train_loader)\n",
    "\n",
    "        train_losses.append(train_loss / len(train_loader.dataset))\n",
    "\n",
    "\n",
    "        # Validate\n",
    "        model.eval()\n",
    "        with torch.no_grad():\n",
    "            if prediction_target == \"key\":\n",
    "                val_mean_rank = mean_keyrank(model, val_loader)\n",
    "            else:\n",
    "                val_mean_rank = mean_sbox_rank(model, val_loader)\n",
    "            \n",
    "        val_ranks.append(val_mean_rank)\n",
    "\n",
    "        torch.save(model, f\"models/{folder}/epoch{epoch+1}.pt\")\n",
    "        \n",
    "        print(f\"Epoch #{epoch+1} of {n_epochs}, training loss: {train_loss:.3f}, val mean keyrank: {val_mean_rank:.3f}\")\n",
    "\n",
    "    return (train_losses, val_ranks)"
   ]
  },
  {
   "cell_type": "code",
   "execution_count": 28,
   "metadata": {},
   "outputs": [],
   "source": [
    "EPOCHS = 100\n",
    "BATCH_SIZE = 200 #\n",
    "PREDICTION_TARGET = \"sbox\"\n",
    "TARGET_BYTE_IDX = 1"
   ]
  },
  {
   "cell_type": "code",
   "execution_count": 29,
   "metadata": {},
   "outputs": [
    {
     "name": "stdout",
     "output_type": "stream",
     "text": [
      "torch.Size([500000, 16])\n",
      "torch.Size([500000, 16])\n",
      "torch.Size([1000, 500, 16])\n",
      "torch.Size([1000, 16])\n"
     ]
    }
   ],
   "source": [
    "print(train_sbox_output.shape)\n",
    "print(train_keys.shape)\n",
    "\n",
    "print(val_test_sbox_output.shape)\n",
    "print(val_test_keys.shape)"
   ]
  },
  {
   "cell_type": "code",
   "execution_count": 40,
   "metadata": {},
   "outputs": [],
   "source": [
    "# Dataset with sbox or key as target\n",
    "key_train_set = TrainingTraceSet(train_traces_norm[:,:], train_keys, TARGET_BYTE_IDX)\n",
    "key_val_test_set = TestingTraceSet(val_test_traces_norm, val_test_keys, TARGET_BYTE_IDX)\n",
    "\n",
    "sbox_train_set = TrainingTraceSet(train_traces_norm[:,:], train_sbox_output, TARGET_BYTE_IDX)\n",
    "sbox_val_test_set = SboxTestingTraceSet(val_test_traces_norm, val_test_plaintexts, val_test_keys, TARGET_BYTE_IDX)\n",
    "\n",
    "key_val_set, key_test_set = random_split(key_val_test_set, [0.5, 0.5], generator = torch_rng)\n",
    "sbox_val_set, sbox_test_set = random_split(sbox_val_test_set, [0.5, 0.5], generator = torch_rng)\n",
    "\n",
    "key_train_loader = DataLoader(key_train_set, batch_size=BATCH_SIZE, shuffle=True, generator=torch_rng)\n",
    "key_val_loader = DataLoader(key_val_set)\n",
    "key_test_loader = DataLoader(key_test_set)\n",
    "\n",
    "sbox_train_loader = DataLoader(sbox_train_set, batch_size=BATCH_SIZE, shuffle=True, generator=torch_rng)\n",
    "sbox_val_loader = DataLoader(sbox_val_set)\n",
    "sbox_test_loader = DataLoader(sbox_test_set)"
   ]
  },
  {
   "cell_type": "code",
   "execution_count": 31,
   "metadata": {},
   "outputs": [
    {
     "name": "stdout",
     "output_type": "stream",
     "text": [
      "97708\n"
     ]
    }
   ],
   "source": [
    "test = CNN_Hettwer().to(device)\n",
    "pytorch_total_params = sum(p.numel() for p in test.parameters() if p.requires_grad)\n",
    "print(pytorch_total_params)"
   ]
  },
  {
   "cell_type": "code",
   "execution_count": 32,
   "metadata": {},
   "outputs": [],
   "source": [
    "torch.manual_seed(676)\n",
    "model = CNN_ZHANG().to(device)\n",
    "\n"
   ]
  },
  {
   "cell_type": "code",
   "execution_count": null,
   "metadata": {},
   "outputs": [
    {
     "name": "stderr",
     "output_type": "stream",
     "text": [
      "                                                                    \r"
     ]
    },
    {
     "name": "stdout",
     "output_type": "stream",
     "text": [
      "Mean keyrank before training: 127.51797599999999\n"
     ]
    },
    {
     "name": "stderr",
     "output_type": "stream",
     "text": [
      "training model:   0%|          | 1/2500 [00:00<08:15,  5.04batch/s]   "
     ]
    },
    {
     "name": "stdout",
     "output_type": "stream",
     "text": [
      "Epoch #1 of 100, training loss: 5.545, val mean keyrank: 127.468\n"
     ]
    },
    {
     "name": "stderr",
     "output_type": "stream",
     "text": [
      "training model:   0%|          | 1/2500 [00:00<08:15,  5.04batch/s]   "
     ]
    },
    {
     "name": "stdout",
     "output_type": "stream",
     "text": [
      "Epoch #2 of 100, training loss: 5.545, val mean keyrank: 127.451\n"
     ]
    },
    {
     "name": "stderr",
     "output_type": "stream",
     "text": [
      "training model:   0%|          | 0/2500 [00:00<?, ?batch/s]           "
     ]
    },
    {
     "name": "stdout",
     "output_type": "stream",
     "text": [
      "Epoch #3 of 100, training loss: 5.543, val mean keyrank: 115.205\n"
     ]
    },
    {
     "name": "stderr",
     "output_type": "stream",
     "text": [
      "training model:   0%|          | 0/2500 [00:00<?, ?batch/s]           "
     ]
    },
    {
     "name": "stdout",
     "output_type": "stream",
     "text": [
      "Epoch #4 of 100, training loss: 5.498, val mean keyrank: 103.741\n"
     ]
    },
    {
     "name": "stderr",
     "output_type": "stream",
     "text": [
      "training model:   0%|          | 1/2500 [00:00<07:18,  5.69batch/s]   "
     ]
    },
    {
     "name": "stdout",
     "output_type": "stream",
     "text": [
      "Epoch #5 of 100, training loss: 5.462, val mean keyrank: 97.314\n"
     ]
    },
    {
     "name": "stderr",
     "output_type": "stream",
     "text": [
      "training model:   0%|          | 0/2500 [00:00<?, ?batch/s]           "
     ]
    },
    {
     "name": "stdout",
     "output_type": "stream",
     "text": [
      "Epoch #6 of 100, training loss: 5.435, val mean keyrank: 93.946\n"
     ]
    },
    {
     "name": "stderr",
     "output_type": "stream",
     "text": [
      "training model:   0%|          | 0/2500 [00:00<?, ?batch/s]           "
     ]
    },
    {
     "name": "stdout",
     "output_type": "stream",
     "text": [
      "Epoch #7 of 100, training loss: 5.417, val mean keyrank: 91.158\n"
     ]
    },
    {
     "name": "stderr",
     "output_type": "stream",
     "text": [
      "training model:   0%|          | 1/2500 [00:00<07:30,  5.54batch/s]   "
     ]
    },
    {
     "name": "stdout",
     "output_type": "stream",
     "text": [
      "Epoch #8 of 100, training loss: 5.398, val mean keyrank: 89.715\n"
     ]
    },
    {
     "name": "stderr",
     "output_type": "stream",
     "text": [
      "training model:   0%|          | 0/2500 [00:00<?, ?batch/s]           "
     ]
    },
    {
     "name": "stdout",
     "output_type": "stream",
     "text": [
      "Epoch #9 of 100, training loss: 5.384, val mean keyrank: 87.780\n"
     ]
    },
    {
     "name": "stderr",
     "output_type": "stream",
     "text": [
      "training model:   0%|          | 0/2500 [00:00<?, ?batch/s]           "
     ]
    },
    {
     "name": "stdout",
     "output_type": "stream",
     "text": [
      "Epoch #10 of 100, training loss: 5.369, val mean keyrank: 85.592\n"
     ]
    },
    {
     "name": "stderr",
     "output_type": "stream",
     "text": [
      "training model:   0%|          | 1/2500 [00:00<07:41,  5.42batch/s]   "
     ]
    },
    {
     "name": "stdout",
     "output_type": "stream",
     "text": [
      "Epoch #11 of 100, training loss: 5.347, val mean keyrank: 83.073\n"
     ]
    },
    {
     "name": "stderr",
     "output_type": "stream",
     "text": [
      "training model:   0%|          | 0/2500 [00:00<?, ?batch/s]           "
     ]
    },
    {
     "name": "stdout",
     "output_type": "stream",
     "text": [
      "Epoch #12 of 100, training loss: 5.325, val mean keyrank: 81.621\n"
     ]
    },
    {
     "name": "stderr",
     "output_type": "stream",
     "text": [
      "training model:   0%|          | 0/2500 [00:00<?, ?batch/s]           "
     ]
    },
    {
     "name": "stdout",
     "output_type": "stream",
     "text": [
      "Epoch #13 of 100, training loss: 5.311, val mean keyrank: 80.932\n"
     ]
    },
    {
     "name": "stderr",
     "output_type": "stream",
     "text": [
      "training model:   0%|          | 0/2500 [00:00<?, ?batch/s]           "
     ]
    },
    {
     "name": "stdout",
     "output_type": "stream",
     "text": [
      "Epoch #14 of 100, training loss: 5.298, val mean keyrank: 79.335\n"
     ]
    },
    {
     "name": "stderr",
     "output_type": "stream",
     "text": [
      "training model:   0%|          | 1/2500 [00:00<07:52,  5.29batch/s]   "
     ]
    },
    {
     "name": "stdout",
     "output_type": "stream",
     "text": [
      "Epoch #15 of 100, training loss: 5.283, val mean keyrank: 78.250\n"
     ]
    },
    {
     "name": "stderr",
     "output_type": "stream",
     "text": [
      "training model:   0%|          | 1/2500 [00:00<06:56,  5.99batch/s]   "
     ]
    },
    {
     "name": "stdout",
     "output_type": "stream",
     "text": [
      "Epoch #16 of 100, training loss: 5.270, val mean keyrank: 77.641\n"
     ]
    },
    {
     "name": "stderr",
     "output_type": "stream",
     "text": [
      "training model:   0%|          | 1/2500 [00:00<08:05,  5.15batch/s]   "
     ]
    },
    {
     "name": "stdout",
     "output_type": "stream",
     "text": [
      "Epoch #17 of 100, training loss: 5.259, val mean keyrank: 76.488\n"
     ]
    },
    {
     "name": "stderr",
     "output_type": "stream",
     "text": [
      "training model:   0%|          | 0/2500 [00:00<?, ?batch/s]           "
     ]
    },
    {
     "name": "stdout",
     "output_type": "stream",
     "text": [
      "Epoch #18 of 100, training loss: 5.245, val mean keyrank: 75.077\n"
     ]
    },
    {
     "name": "stderr",
     "output_type": "stream",
     "text": [
      "training model:   0%|          | 0/2500 [00:00<?, ?batch/s]           "
     ]
    },
    {
     "name": "stdout",
     "output_type": "stream",
     "text": [
      "Epoch #19 of 100, training loss: 5.234, val mean keyrank: 74.575\n"
     ]
    },
    {
     "name": "stderr",
     "output_type": "stream",
     "text": [
      "training model:   0%|          | 1/2500 [00:00<08:26,  4.94batch/s]   "
     ]
    },
    {
     "name": "stdout",
     "output_type": "stream",
     "text": [
      "Epoch #20 of 100, training loss: 5.223, val mean keyrank: 74.371\n"
     ]
    },
    {
     "name": "stderr",
     "output_type": "stream",
     "text": [
      "training model:   0%|          | 0/2500 [00:00<?, ?batch/s]           "
     ]
    },
    {
     "name": "stdout",
     "output_type": "stream",
     "text": [
      "Epoch #21 of 100, training loss: 5.213, val mean keyrank: 73.048\n"
     ]
    },
    {
     "name": "stderr",
     "output_type": "stream",
     "text": [
      "training model:   0%|          | 0/2500 [00:00<?, ?batch/s]           "
     ]
    },
    {
     "name": "stdout",
     "output_type": "stream",
     "text": [
      "Epoch #22 of 100, training loss: 5.200, val mean keyrank: 72.608\n"
     ]
    },
    {
     "name": "stderr",
     "output_type": "stream",
     "text": [
      "training model:   0%|          | 1/2500 [00:00<07:48,  5.34batch/s]   "
     ]
    },
    {
     "name": "stdout",
     "output_type": "stream",
     "text": [
      "Epoch #23 of 100, training loss: 5.187, val mean keyrank: 72.145\n"
     ]
    },
    {
     "name": "stderr",
     "output_type": "stream",
     "text": [
      "training model:   0%|          | 1/2500 [00:00<07:30,  5.54batch/s]   "
     ]
    },
    {
     "name": "stdout",
     "output_type": "stream",
     "text": [
      "Epoch #24 of 100, training loss: 5.174, val mean keyrank: 70.424\n"
     ]
    },
    {
     "name": "stderr",
     "output_type": "stream",
     "text": [
      "training model:   0%|          | 0/2500 [00:00<?, ?batch/s]           "
     ]
    },
    {
     "name": "stdout",
     "output_type": "stream",
     "text": [
      "Epoch #25 of 100, training loss: 5.162, val mean keyrank: 70.443\n"
     ]
    },
    {
     "name": "stderr",
     "output_type": "stream",
     "text": [
      "training model:   0%|          | 0/2500 [00:00<?, ?batch/s]           "
     ]
    },
    {
     "name": "stdout",
     "output_type": "stream",
     "text": [
      "Epoch #26 of 100, training loss: 5.151, val mean keyrank: 69.112\n"
     ]
    },
    {
     "name": "stderr",
     "output_type": "stream",
     "text": [
      "training model:   0%|          | 1/2500 [00:00<08:05,  5.15batch/s]   "
     ]
    },
    {
     "name": "stdout",
     "output_type": "stream",
     "text": [
      "Epoch #27 of 100, training loss: 5.140, val mean keyrank: 68.885\n"
     ]
    },
    {
     "name": "stderr",
     "output_type": "stream",
     "text": [
      "training model:   0%|          | 0/2500 [00:00<?, ?batch/s]           "
     ]
    },
    {
     "name": "stdout",
     "output_type": "stream",
     "text": [
      "Epoch #28 of 100, training loss: 5.129, val mean keyrank: 68.214\n"
     ]
    },
    {
     "name": "stderr",
     "output_type": "stream",
     "text": [
      "training model:   0%|          | 0/2500 [00:00<?, ?batch/s]           "
     ]
    },
    {
     "name": "stdout",
     "output_type": "stream",
     "text": [
      "Epoch #29 of 100, training loss: 5.116, val mean keyrank: 67.336\n"
     ]
    },
    {
     "name": "stderr",
     "output_type": "stream",
     "text": [
      "training model:   0%|          | 0/2500 [00:00<?, ?batch/s]           "
     ]
    },
    {
     "name": "stdout",
     "output_type": "stream",
     "text": [
      "Epoch #30 of 100, training loss: 5.103, val mean keyrank: 66.608\n"
     ]
    },
    {
     "name": "stderr",
     "output_type": "stream",
     "text": [
      "training model:   0%|          | 0/2500 [00:00<?, ?batch/s]           "
     ]
    },
    {
     "name": "stdout",
     "output_type": "stream",
     "text": [
      "Epoch #31 of 100, training loss: 5.088, val mean keyrank: 65.712\n"
     ]
    },
    {
     "name": "stderr",
     "output_type": "stream",
     "text": [
      "training model:   0%|          | 1/2500 [00:00<08:02,  5.18batch/s]   "
     ]
    },
    {
     "name": "stdout",
     "output_type": "stream",
     "text": [
      "Epoch #32 of 100, training loss: 5.072, val mean keyrank: 65.003\n"
     ]
    },
    {
     "name": "stderr",
     "output_type": "stream",
     "text": [
      "training model:   0%|          | 0/2500 [00:00<?, ?batch/s]           "
     ]
    },
    {
     "name": "stdout",
     "output_type": "stream",
     "text": [
      "Epoch #33 of 100, training loss: 5.057, val mean keyrank: 63.997\n"
     ]
    },
    {
     "name": "stderr",
     "output_type": "stream",
     "text": [
      "training model:   0%|          | 0/2500 [00:00<?, ?batch/s]           "
     ]
    },
    {
     "name": "stdout",
     "output_type": "stream",
     "text": [
      "Epoch #34 of 100, training loss: 5.043, val mean keyrank: 64.052\n"
     ]
    },
    {
     "name": "stderr",
     "output_type": "stream",
     "text": [
      "training model:   0%|          | 0/2500 [00:00<?, ?batch/s]           "
     ]
    },
    {
     "name": "stdout",
     "output_type": "stream",
     "text": [
      "Epoch #35 of 100, training loss: 5.029, val mean keyrank: 62.538\n"
     ]
    },
    {
     "name": "stderr",
     "output_type": "stream",
     "text": [
      "training model:   0%|          | 0/2500 [00:00<?, ?batch/s]           "
     ]
    },
    {
     "name": "stdout",
     "output_type": "stream",
     "text": [
      "Epoch #36 of 100, training loss: 5.016, val mean keyrank: 62.418\n"
     ]
    },
    {
     "name": "stderr",
     "output_type": "stream",
     "text": [
      "training model:   0%|          | 0/2500 [00:00<?, ?batch/s]           "
     ]
    },
    {
     "name": "stdout",
     "output_type": "stream",
     "text": [
      "Epoch #37 of 100, training loss: 5.003, val mean keyrank: 61.560\n"
     ]
    },
    {
     "name": "stderr",
     "output_type": "stream",
     "text": [
      "training model:   0%|          | 1/2500 [00:00<07:32,  5.52batch/s]   "
     ]
    },
    {
     "name": "stdout",
     "output_type": "stream",
     "text": [
      "Epoch #38 of 100, training loss: 4.989, val mean keyrank: 61.710\n"
     ]
    },
    {
     "name": "stderr",
     "output_type": "stream",
     "text": [
      "training model:   0%|          | 0/2500 [00:00<?, ?batch/s]           "
     ]
    },
    {
     "name": "stdout",
     "output_type": "stream",
     "text": [
      "Epoch #39 of 100, training loss: 4.977, val mean keyrank: 61.041\n"
     ]
    },
    {
     "name": "stderr",
     "output_type": "stream",
     "text": [
      "training model:   0%|          | 1/2500 [00:00<07:53,  5.28batch/s]   "
     ]
    },
    {
     "name": "stdout",
     "output_type": "stream",
     "text": [
      "Epoch #40 of 100, training loss: 4.965, val mean keyrank: 61.038\n"
     ]
    },
    {
     "name": "stderr",
     "output_type": "stream",
     "text": [
      "training model:   0%|          | 0/2500 [00:00<?, ?batch/s]           "
     ]
    },
    {
     "name": "stdout",
     "output_type": "stream",
     "text": [
      "Epoch #41 of 100, training loss: 4.953, val mean keyrank: 60.457\n"
     ]
    },
    {
     "name": "stderr",
     "output_type": "stream",
     "text": [
      "training model:   0%|          | 0/2500 [00:00<?, ?batch/s]           "
     ]
    },
    {
     "name": "stdout",
     "output_type": "stream",
     "text": [
      "Epoch #42 of 100, training loss: 4.940, val mean keyrank: 59.887\n"
     ]
    },
    {
     "name": "stderr",
     "output_type": "stream",
     "text": [
      "training model:   0%|          | 0/2500 [00:00<?, ?batch/s]           "
     ]
    },
    {
     "name": "stdout",
     "output_type": "stream",
     "text": [
      "Epoch #43 of 100, training loss: 4.928, val mean keyrank: 59.894\n"
     ]
    },
    {
     "name": "stderr",
     "output_type": "stream",
     "text": [
      "training model:   0%|          | 0/2500 [00:00<?, ?batch/s]           "
     ]
    },
    {
     "name": "stdout",
     "output_type": "stream",
     "text": [
      "Epoch #44 of 100, training loss: 4.915, val mean keyrank: 59.177\n"
     ]
    },
    {
     "name": "stderr",
     "output_type": "stream",
     "text": [
      "training model:   0%|          | 1/2500 [00:00<08:21,  4.98batch/s]   "
     ]
    },
    {
     "name": "stdout",
     "output_type": "stream",
     "text": [
      "Epoch #45 of 100, training loss: 4.901, val mean keyrank: 58.881\n"
     ]
    },
    {
     "name": "stderr",
     "output_type": "stream",
     "text": [
      "training model:   0%|          | 0/2500 [00:00<?, ?batch/s]           "
     ]
    },
    {
     "name": "stdout",
     "output_type": "stream",
     "text": [
      "Epoch #46 of 100, training loss: 4.889, val mean keyrank: 58.480\n"
     ]
    },
    {
     "name": "stderr",
     "output_type": "stream",
     "text": [
      "training model:   0%|          | 0/2500 [00:00<?, ?batch/s]           "
     ]
    },
    {
     "name": "stdout",
     "output_type": "stream",
     "text": [
      "Epoch #47 of 100, training loss: 4.875, val mean keyrank: 58.125\n"
     ]
    },
    {
     "name": "stderr",
     "output_type": "stream",
     "text": [
      "training model:   0%|          | 0/2500 [00:00<?, ?batch/s]           "
     ]
    },
    {
     "name": "stdout",
     "output_type": "stream",
     "text": [
      "Epoch #48 of 100, training loss: 4.862, val mean keyrank: 58.215\n"
     ]
    },
    {
     "name": "stderr",
     "output_type": "stream",
     "text": [
      "training model:   0%|          | 0/2500 [00:00<?, ?batch/s]           "
     ]
    },
    {
     "name": "stdout",
     "output_type": "stream",
     "text": [
      "Epoch #49 of 100, training loss: 4.850, val mean keyrank: 57.528\n"
     ]
    },
    {
     "name": "stderr",
     "output_type": "stream",
     "text": [
      "training model:   0%|          | 1/2500 [00:00<07:41,  5.42batch/s]   "
     ]
    },
    {
     "name": "stdout",
     "output_type": "stream",
     "text": [
      "Epoch #50 of 100, training loss: 4.837, val mean keyrank: 57.969\n"
     ]
    },
    {
     "name": "stderr",
     "output_type": "stream",
     "text": [
      "training model:   0%|          | 0/2500 [00:00<?, ?batch/s]           "
     ]
    },
    {
     "name": "stdout",
     "output_type": "stream",
     "text": [
      "Epoch #51 of 100, training loss: 4.824, val mean keyrank: 57.763\n"
     ]
    },
    {
     "name": "stderr",
     "output_type": "stream",
     "text": [
      "training model:   0%|          | 0/2500 [00:00<?, ?batch/s]           "
     ]
    },
    {
     "name": "stdout",
     "output_type": "stream",
     "text": [
      "Epoch #52 of 100, training loss: 4.811, val mean keyrank: 56.870\n"
     ]
    },
    {
     "name": "stderr",
     "output_type": "stream",
     "text": [
      "training model:   0%|          | 0/2500 [00:00<?, ?batch/s]           "
     ]
    },
    {
     "name": "stdout",
     "output_type": "stream",
     "text": [
      "Epoch #53 of 100, training loss: 4.800, val mean keyrank: 56.805\n"
     ]
    },
    {
     "name": "stderr",
     "output_type": "stream",
     "text": [
      "training model:   0%|          | 1/2500 [00:00<07:40,  5.43batch/s]   "
     ]
    },
    {
     "name": "stdout",
     "output_type": "stream",
     "text": [
      "Epoch #54 of 100, training loss: 4.788, val mean keyrank: 56.341\n"
     ]
    },
    {
     "name": "stderr",
     "output_type": "stream",
     "text": [
      "training model:   0%|          | 0/2500 [00:00<?, ?batch/s]           "
     ]
    },
    {
     "name": "stdout",
     "output_type": "stream",
     "text": [
      "Epoch #55 of 100, training loss: 4.775, val mean keyrank: 56.549\n"
     ]
    },
    {
     "name": "stderr",
     "output_type": "stream",
     "text": [
      "training model:   0%|          | 0/2500 [00:00<?, ?batch/s]           "
     ]
    },
    {
     "name": "stdout",
     "output_type": "stream",
     "text": [
      "Epoch #56 of 100, training loss: 4.764, val mean keyrank: 56.618\n"
     ]
    },
    {
     "name": "stderr",
     "output_type": "stream",
     "text": [
      "training model:   0%|          | 0/2500 [00:00<?, ?batch/s]           "
     ]
    },
    {
     "name": "stdout",
     "output_type": "stream",
     "text": [
      "Epoch #57 of 100, training loss: 4.751, val mean keyrank: 56.201\n"
     ]
    },
    {
     "name": "stderr",
     "output_type": "stream",
     "text": [
      "training model:   0%|          | 0/2500 [00:00<?, ?batch/s]           "
     ]
    },
    {
     "name": "stdout",
     "output_type": "stream",
     "text": [
      "Epoch #58 of 100, training loss: 4.738, val mean keyrank: 56.374\n"
     ]
    },
    {
     "name": "stderr",
     "output_type": "stream",
     "text": [
      "training model:   0%|          | 0/2500 [00:00<?, ?batch/s]           "
     ]
    },
    {
     "name": "stdout",
     "output_type": "stream",
     "text": [
      "Epoch #59 of 100, training loss: 4.725, val mean keyrank: 56.304\n"
     ]
    },
    {
     "name": "stderr",
     "output_type": "stream",
     "text": [
      "training model:   0%|          | 0/2500 [00:00<?, ?batch/s]           "
     ]
    },
    {
     "name": "stdout",
     "output_type": "stream",
     "text": [
      "Epoch #60 of 100, training loss: 4.711, val mean keyrank: 55.817\n"
     ]
    },
    {
     "name": "stderr",
     "output_type": "stream",
     "text": [
      "training model:   0%|          | 0/2500 [00:00<?, ?batch/s]           "
     ]
    },
    {
     "name": "stdout",
     "output_type": "stream",
     "text": [
      "Epoch #61 of 100, training loss: 4.698, val mean keyrank: 56.010\n"
     ]
    },
    {
     "name": "stderr",
     "output_type": "stream",
     "text": [
      "training model:   0%|          | 0/2500 [00:00<?, ?batch/s]           "
     ]
    },
    {
     "name": "stdout",
     "output_type": "stream",
     "text": [
      "Epoch #62 of 100, training loss: 4.684, val mean keyrank: 56.298\n"
     ]
    },
    {
     "name": "stderr",
     "output_type": "stream",
     "text": [
      "training model:   0%|          | 0/2500 [00:00<?, ?batch/s]           "
     ]
    },
    {
     "name": "stdout",
     "output_type": "stream",
     "text": [
      "Epoch #63 of 100, training loss: 4.670, val mean keyrank: 56.340\n"
     ]
    },
    {
     "name": "stderr",
     "output_type": "stream",
     "text": [
      "training model:   0%|          | 1/2500 [00:00<07:13,  5.77batch/s]   "
     ]
    },
    {
     "name": "stdout",
     "output_type": "stream",
     "text": [
      "Epoch #64 of 100, training loss: 4.655, val mean keyrank: 55.821\n"
     ]
    },
    {
     "name": "stderr",
     "output_type": "stream",
     "text": [
      "training model:   0%|          | 0/2500 [00:00<?, ?batch/s]           "
     ]
    },
    {
     "name": "stdout",
     "output_type": "stream",
     "text": [
      "Epoch #65 of 100, training loss: 4.641, val mean keyrank: 55.639\n"
     ]
    },
    {
     "name": "stderr",
     "output_type": "stream",
     "text": [
      "training model:   0%|          | 1/2500 [00:00<07:48,  5.33batch/s]   "
     ]
    },
    {
     "name": "stdout",
     "output_type": "stream",
     "text": [
      "Epoch #66 of 100, training loss: 4.625, val mean keyrank: 55.763\n"
     ]
    },
    {
     "name": "stderr",
     "output_type": "stream",
     "text": [
      "training model:   0%|          | 0/2500 [00:00<?, ?batch/s]           "
     ]
    },
    {
     "name": "stdout",
     "output_type": "stream",
     "text": [
      "Epoch #67 of 100, training loss: 4.610, val mean keyrank: 55.968\n"
     ]
    },
    {
     "name": "stderr",
     "output_type": "stream",
     "text": [
      "training model:   0%|          | 0/2500 [00:00<?, ?batch/s]           "
     ]
    },
    {
     "name": "stdout",
     "output_type": "stream",
     "text": [
      "Epoch #68 of 100, training loss: 4.595, val mean keyrank: 56.067\n"
     ]
    },
    {
     "name": "stderr",
     "output_type": "stream",
     "text": [
      "training model:   0%|          | 1/2500 [00:00<07:48,  5.34batch/s]   "
     ]
    },
    {
     "name": "stdout",
     "output_type": "stream",
     "text": [
      "Epoch #69 of 100, training loss: 4.578, val mean keyrank: 55.971\n"
     ]
    },
    {
     "name": "stderr",
     "output_type": "stream",
     "text": [
      "training model:   0%|          | 0/2500 [00:00<?, ?batch/s]           "
     ]
    },
    {
     "name": "stdout",
     "output_type": "stream",
     "text": [
      "Epoch #70 of 100, training loss: 4.560, val mean keyrank: 56.272\n"
     ]
    },
    {
     "name": "stderr",
     "output_type": "stream",
     "text": [
      "training model:   0%|          | 0/2500 [00:00<?, ?batch/s]           "
     ]
    },
    {
     "name": "stdout",
     "output_type": "stream",
     "text": [
      "Epoch #71 of 100, training loss: 4.545, val mean keyrank: 56.548\n"
     ]
    },
    {
     "name": "stderr",
     "output_type": "stream",
     "text": [
      "training model:   0%|          | 0/2500 [00:00<?, ?batch/s]           "
     ]
    },
    {
     "name": "stdout",
     "output_type": "stream",
     "text": [
      "Epoch #72 of 100, training loss: 4.527, val mean keyrank: 56.387\n"
     ]
    },
    {
     "name": "stderr",
     "output_type": "stream",
     "text": [
      "training model:   0%|          | 0/2500 [00:00<?, ?batch/s]           "
     ]
    },
    {
     "name": "stdout",
     "output_type": "stream",
     "text": [
      "Epoch #73 of 100, training loss: 4.508, val mean keyrank: 56.484\n"
     ]
    },
    {
     "name": "stderr",
     "output_type": "stream",
     "text": [
      "training model:   0%|          | 1/2500 [00:00<08:11,  5.09batch/s]   "
     ]
    },
    {
     "name": "stdout",
     "output_type": "stream",
     "text": [
      "Epoch #74 of 100, training loss: 4.489, val mean keyrank: 56.430\n"
     ]
    },
    {
     "name": "stderr",
     "output_type": "stream",
     "text": [
      "training model:   0%|          | 0/2500 [00:00<?, ?batch/s]           "
     ]
    },
    {
     "name": "stdout",
     "output_type": "stream",
     "text": [
      "Epoch #75 of 100, training loss: 4.469, val mean keyrank: 57.613\n"
     ]
    },
    {
     "name": "stderr",
     "output_type": "stream",
     "text": [
      "training model:   0%|          | 1/2500 [00:00<07:21,  5.66batch/s]   "
     ]
    },
    {
     "name": "stdout",
     "output_type": "stream",
     "text": [
      "Epoch #76 of 100, training loss: 4.451, val mean keyrank: 56.740\n"
     ]
    },
    {
     "name": "stderr",
     "output_type": "stream",
     "text": [
      "training model:   0%|          | 1/2500 [00:00<08:03,  5.17batch/s]   "
     ]
    },
    {
     "name": "stdout",
     "output_type": "stream",
     "text": [
      "Epoch #77 of 100, training loss: 4.430, val mean keyrank: 56.991\n"
     ]
    },
    {
     "name": "stderr",
     "output_type": "stream",
     "text": [
      "training model:   0%|          | 0/2500 [00:00<?, ?batch/s]           "
     ]
    },
    {
     "name": "stdout",
     "output_type": "stream",
     "text": [
      "Epoch #78 of 100, training loss: 4.410, val mean keyrank: 57.261\n"
     ]
    },
    {
     "name": "stderr",
     "output_type": "stream",
     "text": [
      "training model:   0%|          | 0/2500 [00:00<?, ?batch/s]           "
     ]
    },
    {
     "name": "stdout",
     "output_type": "stream",
     "text": [
      "Epoch #79 of 100, training loss: 4.389, val mean keyrank: 57.442\n"
     ]
    },
    {
     "name": "stderr",
     "output_type": "stream",
     "text": [
      "training model:   0%|          | 1/2500 [00:00<08:19,  5.01batch/s]   "
     ]
    },
    {
     "name": "stdout",
     "output_type": "stream",
     "text": [
      "Epoch #80 of 100, training loss: 4.367, val mean keyrank: 57.891\n"
     ]
    },
    {
     "name": "stderr",
     "output_type": "stream",
     "text": [
      "training model:   0%|          | 0/2500 [00:00<?, ?batch/s]           "
     ]
    },
    {
     "name": "stdout",
     "output_type": "stream",
     "text": [
      "Epoch #81 of 100, training loss: 4.345, val mean keyrank: 57.725\n"
     ]
    },
    {
     "name": "stderr",
     "output_type": "stream",
     "text": [
      "training model:   0%|          | 0/2500 [00:00<?, ?batch/s]           "
     ]
    },
    {
     "name": "stdout",
     "output_type": "stream",
     "text": [
      "Epoch #82 of 100, training loss: 4.321, val mean keyrank: 58.122\n"
     ]
    },
    {
     "name": "stderr",
     "output_type": "stream",
     "text": [
      "training model:   0%|          | 0/2500 [00:00<?, ?batch/s]           "
     ]
    },
    {
     "name": "stdout",
     "output_type": "stream",
     "text": [
      "Epoch #83 of 100, training loss: 4.299, val mean keyrank: 58.692\n"
     ]
    },
    {
     "name": "stderr",
     "output_type": "stream",
     "text": [
      "training model:   0%|          | 1/2500 [00:00<07:46,  5.35batch/s]   "
     ]
    },
    {
     "name": "stdout",
     "output_type": "stream",
     "text": [
      "Epoch #84 of 100, training loss: 4.274, val mean keyrank: 58.516\n"
     ]
    },
    {
     "name": "stderr",
     "output_type": "stream",
     "text": [
      "training model:   0%|          | 0/2500 [00:00<?, ?batch/s]           "
     ]
    },
    {
     "name": "stdout",
     "output_type": "stream",
     "text": [
      "Epoch #85 of 100, training loss: 4.251, val mean keyrank: 58.680\n"
     ]
    },
    {
     "name": "stderr",
     "output_type": "stream",
     "text": [
      "training model:   0%|          | 1/2500 [00:00<08:09,  5.11batch/s]   "
     ]
    },
    {
     "name": "stdout",
     "output_type": "stream",
     "text": [
      "Epoch #86 of 100, training loss: 4.226, val mean keyrank: 59.256\n"
     ]
    },
    {
     "name": "stderr",
     "output_type": "stream",
     "text": [
      "training model:   0%|          | 0/2500 [00:00<?, ?batch/s]           "
     ]
    },
    {
     "name": "stdout",
     "output_type": "stream",
     "text": [
      "Epoch #87 of 100, training loss: 4.202, val mean keyrank: 59.409\n"
     ]
    },
    {
     "name": "stderr",
     "output_type": "stream",
     "text": [
      "training model:   0%|          | 1/2500 [00:00<06:48,  6.11batch/s]   "
     ]
    },
    {
     "name": "stdout",
     "output_type": "stream",
     "text": [
      "Epoch #88 of 100, training loss: 4.177, val mean keyrank: 59.603\n"
     ]
    },
    {
     "name": "stderr",
     "output_type": "stream",
     "text": [
      "training model:   0%|          | 1/2500 [00:00<08:19,  5.00batch/s]   "
     ]
    },
    {
     "name": "stdout",
     "output_type": "stream",
     "text": [
      "Epoch #89 of 100, training loss: 4.151, val mean keyrank: 59.796\n"
     ]
    },
    {
     "name": "stderr",
     "output_type": "stream",
     "text": [
      "training model:   0%|          | 0/2500 [00:00<?, ?batch/s]           "
     ]
    },
    {
     "name": "stdout",
     "output_type": "stream",
     "text": [
      "Epoch #90 of 100, training loss: 4.124, val mean keyrank: 60.185\n"
     ]
    },
    {
     "name": "stderr",
     "output_type": "stream",
     "text": [
      "training model:   0%|          | 0/2500 [00:00<?, ?batch/s]           "
     ]
    },
    {
     "name": "stdout",
     "output_type": "stream",
     "text": [
      "Epoch #91 of 100, training loss: 4.099, val mean keyrank: 60.419\n"
     ]
    },
    {
     "name": "stderr",
     "output_type": "stream",
     "text": [
      "training model:   0%|          | 0/2500 [00:00<?, ?batch/s]           "
     ]
    },
    {
     "name": "stdout",
     "output_type": "stream",
     "text": [
      "Epoch #92 of 100, training loss: 4.073, val mean keyrank: 60.401\n"
     ]
    },
    {
     "name": "stderr",
     "output_type": "stream",
     "text": [
      "training model:   0%|          | 0/2500 [00:00<?, ?batch/s]           "
     ]
    },
    {
     "name": "stdout",
     "output_type": "stream",
     "text": [
      "Epoch #93 of 100, training loss: 4.045, val mean keyrank: 60.711\n"
     ]
    },
    {
     "name": "stderr",
     "output_type": "stream",
     "text": [
      "training model:   0%|          | 0/2500 [00:00<?, ?batch/s]           "
     ]
    },
    {
     "name": "stdout",
     "output_type": "stream",
     "text": [
      "Epoch #94 of 100, training loss: 4.017, val mean keyrank: 60.958\n"
     ]
    },
    {
     "name": "stderr",
     "output_type": "stream",
     "text": [
      "training model:   0%|          | 0/2500 [00:00<?, ?batch/s]           "
     ]
    },
    {
     "name": "stdout",
     "output_type": "stream",
     "text": [
      "Epoch #95 of 100, training loss: 3.990, val mean keyrank: 61.241\n"
     ]
    },
    {
     "name": "stderr",
     "output_type": "stream",
     "text": [
      "training model:   0%|          | 1/2500 [00:00<08:00,  5.20batch/s]   "
     ]
    },
    {
     "name": "stdout",
     "output_type": "stream",
     "text": [
      "Epoch #96 of 100, training loss: 3.961, val mean keyrank: 61.558\n"
     ]
    },
    {
     "name": "stderr",
     "output_type": "stream",
     "text": [
      "training model:   0%|          | 1/2500 [00:00<07:34,  5.50batch/s]   "
     ]
    },
    {
     "name": "stdout",
     "output_type": "stream",
     "text": [
      "Epoch #97 of 100, training loss: 3.933, val mean keyrank: 61.749\n"
     ]
    },
    {
     "name": "stderr",
     "output_type": "stream",
     "text": [
      "training model:   0%|          | 0/2500 [00:00<?, ?batch/s]           "
     ]
    },
    {
     "name": "stdout",
     "output_type": "stream",
     "text": [
      "Epoch #98 of 100, training loss: 3.905, val mean keyrank: 61.855\n"
     ]
    },
    {
     "name": "stderr",
     "output_type": "stream",
     "text": [
      "training model:   0%|          | 1/2500 [00:00<08:07,  5.13batch/s]   "
     ]
    },
    {
     "name": "stdout",
     "output_type": "stream",
     "text": [
      "Epoch #99 of 100, training loss: 3.877, val mean keyrank: 62.409\n"
     ]
    },
    {
     "name": "stderr",
     "output_type": "stream",
     "text": [
      "                                                                      \r"
     ]
    },
    {
     "name": "stdout",
     "output_type": "stream",
     "text": [
      "Epoch #100 of 100, training loss: 3.847, val mean keyrank: 62.402\n"
     ]
    },
    {
     "ename": "",
     "evalue": "",
     "output_type": "error",
     "traceback": [
      "\u001b[1;31mThe Kernel crashed while executing code in the current cell or a previous cell. \n",
      "\u001b[1;31mPlease review the code in the cell(s) to identify a possible cause of the failure. \n",
      "\u001b[1;31mClick <a href='https://aka.ms/vscodeJupyterKernelCrash'>here</a> for more info. \n",
      "\u001b[1;31mView Jupyter <a href='command:jupyter.viewOutput'>log</a> for further details."
     ]
    }
   ],
   "source": [
    "# Zhang 2019\n",
    "adam = optim.Adam(model.parameters(), lr=0.00001)\n",
    "\n",
    "# Hettwer 2020, optimizer not specified\n",
    "#adam = optim.Adam(model.parameters(), lr=0.001)\n",
    "#sgd = optim.SGD(model.parameters(), lr=0.00001)\n",
    "\n",
    "cross_entropy = nn.CrossEntropyLoss()\n",
    "\n",
    "model.eval()\n",
    "with torch.no_grad():\n",
    "    if PREDICTION_TARGET == \"key\":\n",
    "        validation_mean_keyrank = mean_keyrank(model, key_val_loader)\n",
    "    else:\n",
    "        validation_mean_keyrank = mean_sbox_rank(model, sbox_val_loader)\n",
    "\n",
    "print(f\"Mean keyrank before training: {validation_mean_keyrank}\")\n",
    "\n",
    "scores = train_model(\n",
    "    model,\n",
    "    adam,\n",
    "    cross_entropy,\n",
    "    train_loader,\n",
    "    val_loader,\n",
    "    f\"fixslice-{PREDICTION_TARGET}-byte{TARGET_BYTE_IDX}-zhang\",\n",
    "    n_epochs=EPOCHS,\n",
    "    prediction_target=PREDICTION_TARGET,\n",
    ")"
   ]
  },
  {
   "cell_type": "code",
   "execution_count": 52,
   "metadata": {},
   "outputs": [
    {
     "name": "stderr",
     "output_type": "stream",
     "text": [
      "C:\\Users\\Ulrik\\AppData\\Local\\Temp\\ipykernel_21168\\4075382511.py:4: FutureWarning: You are using `torch.load` with `weights_only=False` (the current default value), which uses the default pickle module implicitly. It is possible to construct malicious pickle data which will execute arbitrary code during unpickling (See https://github.com/pytorch/pytorch/blob/main/SECURITY.md#untrusted-models for more details). In a future release, the default value for `weights_only` will be flipped to `True`. This limits the functions that could be executed during unpickling. Arbitrary objects will no longer be allowed to be loaded via this mode unless they are explicitly allowlisted by the user via `torch.serialization.add_safe_globals`. We recommend you start setting `weights_only=True` for any use case where you don't have full control of the loaded file. Please open an issue on GitHub for any issues related to this experimental feature.\n",
      "  sbox_model = torch.load(f\"models/{LOAD_EXPERIMENT}/epoch{LOAD_EPOCH}.pt\")\n"
     ]
    }
   ],
   "source": [
    "LOAD_EXPERIMENT = \"fixslice-sbox-byte1-zhang\"\n",
    "LOAD_EPOCH = 65\n",
    "\n",
    "sbox_model = torch.load(f\"models/{LOAD_EXPERIMENT}/epoch{LOAD_EPOCH}.pt\")"
   ]
  },
  {
   "cell_type": "code",
   "execution_count": 50,
   "metadata": {},
   "outputs": [
    {
     "name": "stderr",
     "output_type": "stream",
     "text": [
      "C:\\Users\\Ulrik\\AppData\\Local\\Temp\\ipykernel_21168\\488375229.py:4: FutureWarning: You are using `torch.load` with `weights_only=False` (the current default value), which uses the default pickle module implicitly. It is possible to construct malicious pickle data which will execute arbitrary code during unpickling (See https://github.com/pytorch/pytorch/blob/main/SECURITY.md#untrusted-models for more details). In a future release, the default value for `weights_only` will be flipped to `True`. This limits the functions that could be executed during unpickling. Arbitrary objects will no longer be allowed to be loaded via this mode unless they are explicitly allowlisted by the user via `torch.serialization.add_safe_globals`. We recommend you start setting `weights_only=True` for any use case where you don't have full control of the loaded file. Please open an issue on GitHub for any issues related to this experimental feature.\n",
      "  key_model = torch.load(f\"models/{LOAD_EXPERIMENT}/epoch{LOAD_EPOCH}.pt\")\n"
     ]
    }
   ],
   "source": [
    "LOAD_EXPERIMENT = \"fixslice-byte0-zhang\"\n",
    "LOAD_EPOCH = 65\n",
    "\n",
    "key_model = torch.load(f\"models/{LOAD_EXPERIMENT}/epoch{LOAD_EPOCH}.pt\")"
   ]
  },
  {
   "cell_type": "code",
   "execution_count": null,
   "metadata": {},
   "outputs": [
    {
     "name": "stderr",
     "output_type": "stream",
     "text": [
      "                                                                    "
     ]
    },
    {
     "name": "stdout",
     "output_type": "stream",
     "text": [
      "Mean keyrank: 55.542627999999944\n"
     ]
    },
    {
     "name": "stderr",
     "output_type": "stream",
     "text": [
      "\r"
     ]
    }
   ],
   "source": [
    "testing_keyrank = mean_sbox_rank(sbox_model, sbox_test_loader)\n",
    "print(f\"Mean keyrank: {testing_keyrank}\")"
   ]
  },
  {
   "cell_type": "markdown",
   "metadata": {},
   "source": [
    "## Gradient based saliency map"
   ]
  },
  {
   "cell_type": "code",
   "execution_count": 44,
   "metadata": {},
   "outputs": [],
   "source": [
    "def key_gradient_based_attribution(model : nn.Module, val_loader : DataLoader):\n",
    "    grads = 0.\n",
    "\n",
    "    sgd = optim.SGD(model.parameters())\n",
    "\n",
    "    for traces, key in tqdm(val_loader, 'computing gradients'):\n",
    "\n",
    "        traces : torch.Tensor = traces.to(device)\n",
    "\n",
    "        # Set up gradient computation in computational graph\n",
    "        traces.requires_grad = True\n",
    "        traces.retain_grad()\n",
    "\n",
    "        output = model(traces.squeeze())\n",
    "\n",
    "        correct_idx = int(key)\n",
    "\n",
    "        # Backward on magnitude sum of correct prediction\n",
    "        output[correct_idx].sum().backward()\n",
    "\n",
    "        grads += traces.grad\\\n",
    "            .squeeze()\\\n",
    "            .abs()\\\n",
    "            .mean(dim=0)\n",
    "        \n",
    "    return grads\n",
    "        \n",
    "def sbox_gradient_based_attribution(model : nn.Module, val_loader : DataLoader):\n",
    "    grads = 0.\n",
    "\n",
    "    sgd = optim.SGD(model.parameters())\n",
    "\n",
    "    # trace, plaintext, key\n",
    "    for traces, _, key in tqdm(val_loader, 'computing gradients'):\n",
    "\n",
    "        traces : torch.Tensor = traces.to(device)\n",
    "\n",
    "        # Set up gradient computation in computational graph\n",
    "        traces.requires_grad = True\n",
    "        traces.retain_grad()\n",
    "\n",
    "        output = model(traces.squeeze())\n",
    "\n",
    "        correct_idx = int(key)\n",
    "\n",
    "        # Backward on magnitude sum of correct prediction\n",
    "        output[correct_idx].sum().backward()\n",
    "\n",
    "        grads += traces.grad\\\n",
    "            .squeeze()\\\n",
    "            .abs()\\\n",
    "            .mean(dim=0)\n",
    "\n",
    "    return grads"
   ]
  },
  {
   "cell_type": "code",
   "execution_count": 55,
   "metadata": {},
   "outputs": [],
   "source": [
    "def plot_attribution_with_trace(attr_scores, trace_idx : int):\n",
    "    fig = plt.figure(1,(8.0, 5.0))\n",
    "\n",
    "    ax = fig.add_axes((1.0, 1.0, 1.0, 1.0))\n",
    "    #ax.set_ylim(200.0, 700.0)\n",
    "\n",
    "    score_mean = attr_scores.cpu().mean()\n",
    "    score_std =  attr_scores.cpu().std()\n",
    "    score_norm = (attr_scores.cpu() - score_mean) / score_std\n",
    "\n",
    "    ax.plot(np.arange(1000), score_norm.abs() + 2.0, color='magenta', alpha=1.0)\n",
    "\n",
    "    test_trace = val_test_traces[trace_idx][0][:1000]\n",
    "    test_trace_mean = test_trace.mean()\n",
    "    test_trace_std = test_trace.std()\n",
    "    test_trace_norm = (test_trace - test_trace_mean) / test_trace_std\n",
    "\n",
    "    ax2 = ax.twinx()\n",
    "    ax.plot(np.arange(1000), test_trace_norm)"
   ]
  },
  {
   "cell_type": "code",
   "execution_count": 53,
   "metadata": {},
   "outputs": [
    {
     "name": "stderr",
     "output_type": "stream",
     "text": [
      "computing gradients: 100%|██████████| 500/500 [01:07<00:00,  7.45it/s]\n",
      "computing gradients: 100%|██████████| 500/500 [01:09<00:00,  7.22it/s]\n"
     ]
    }
   ],
   "source": [
    "sbox_grads = sbox_gradient_based_attribution(sbox_model, sbox_val_loader)\n",
    "key_grads = key_gradient_based_attribution(key_model, key_val_loader)"
   ]
  },
  {
   "cell_type": "code",
   "execution_count": 56,
   "metadata": {},
   "outputs": [
    {
     "data": {
      "image/png": "[encoded data removed]",
      "text/plain": [
       "<Figure size 800x500 with 2 Axes>"
      ]
     },
     "metadata": {},
     "output_type": "display_data"
    }
   ],
   "source": [
    "plot_attribution_with_trace(sbox_grads, 141)"
   ]
  },
  {
   "cell_type": "code",
   "execution_count": 57,
   "metadata": {},
   "outputs": [
    {
     "data": {
      "image/png": "[encoded data removed]",
      "text/plain": [
       "<Figure size 800x500 with 2 Axes>"
      ]
     },
     "metadata": {},
     "output_type": "display_data"
    }
   ],
   "source": [
    "plot_attribution_with_trace(key_grads, 141)"
   ]
  },
  {
   "cell_type": "code",
   "execution_count": null,
   "metadata": {},
   "outputs": [],
   "source": [
    "fig = plt.figure(1,(8.0, 5.0))\n",
    "\n",
    "ax = fig.add_axes((1.0, 1.0, 1.0, 1.0))\n",
    "#ax.set_ylim(200.0, 700.0)\n",
    "\n",
    "grads_mean = grads.cpu().mean()\n",
    "grads_std =  grads.cpu().std()\n",
    "grads_norm = (grads.cpu() - grads_mean) / grads_std\n",
    "\n",
    "ax.plot(np.arange(1000), grads_norm.abs() + 2.0, color='magenta', alpha=1.0)\n",
    "\n",
    "test_trace = val_test_traces[141][0][:1000]\n",
    "test_trace_mean = test_trace.mean()\n",
    "test_trace_std = test_trace.std()\n",
    "test_trace_norm = (test_trace - test_trace_mean) / test_trace_std\n",
    "\n",
    "ax2 = ax.twinx()\n",
    "ax.plot(np.arange(1000), test_trace_norm)"
   ]
  },
  {
   "cell_type": "markdown",
   "metadata": {},
   "source": [
    "## Occlusion based saliency map"
   ]
  }
 ],
 "metadata": {
  "kernelspec": {
   "display_name": "INF265",
   "language": "python",
   "name": "python3"
  },
  "language_info": {
   "codemirror_mode": {
    "name": "ipython",
    "version": 3
   },
   "file_extension": ".py",
   "mimetype": "text/x-python",
   "name": "python",
   "nbconvert_exporter": "python",
   "pygments_lexer": "ipython3",
   "version": "3.12.9"
  }
 },
 "nbformat": 4,
 "nbformat_minor": 2
}
